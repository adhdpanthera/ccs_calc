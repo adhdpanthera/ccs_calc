{
 "cells": [
  {
   "cell_type": "markdown",
   "metadata": {},
   "source": [
    "Построение калькулятора для расчета справедливой стоимости кросс-валютного свопа с помощью Python и библиотеки QuantLib. Рыночные данные, для построения кривых дисконтирования/форвардных кривых находятся в файле Excel, приложенным к заданию. "
   ]
  },
  {
   "cell_type": "code",
   "execution_count": 1,
   "metadata": {},
   "outputs": [],
   "source": [
    "import QuantLib as ql"
   ]
  },
  {
   "cell_type": "markdown",
   "metadata": {},
   "source": [
    "Установка даты"
   ]
  },
  {
   "cell_type": "code",
   "execution_count": 2,
   "metadata": {},
   "outputs": [],
   "source": [
    "today_date = ql.Date(13, 5, 2022)\n",
    "settlement_date = ql.Date(21, 9, 2021)\n",
    "maturity_date = ql.Date(21, 9, 2025)\n",
    "ql.Settings.instance().evaluationDate = today_date"
   ]
  },
  {
   "cell_type": "markdown",
   "metadata": {},
   "source": [
    "Построение форвардной кривой"
   ]
  },
  {
   "cell_type": "code",
   "execution_count": 3,
   "metadata": {},
   "outputs": [],
   "source": [
    "fwd_data = [0.01038,\n",
    " 0.16965,\n",
    " 0.18399,\n",
    " 0.25306,\n",
    " 0.20686,\n",
    " 0.24531,\n",
    " 0.30857,\n",
    " 0.2045,\n",
    " 0.02611,\n",
    " 0.02715,\n",
    " 0.02729,\n",
    " 0.02704,\n",
    " 0.02714,\n",
    " 0.027269,\n",
    " 0.027367,\n",
    " 0.027352,\n",
    " 0.02747]\n",
    "\n",
    "helpers = [\n",
    "    ql.DepositRateHelper(ql.QuoteHandle(ql.SimpleQuote(fwd_data[0])), ql.USDLibor(ql.Period('3M'))), \n",
    "    ql.FuturesRateHelper(ql.QuoteHandle(ql.SimpleQuote(100 - fwd_data[1])), ql.Date(16, 6, 2021), ql.USDLibor(ql.Period('3M'))),  # EDM1\n",
    "    ql.FuturesRateHelper(ql.QuoteHandle(ql.SimpleQuote(100 - fwd_data[2])), ql.Date(15, 9, 2021), ql.USDLibor(ql.Period('3M'))),  # EDU1 \n",
    "    ql.FuturesRateHelper(ql.QuoteHandle(ql.SimpleQuote(100 - fwd_data[3])), ql.Date(15, 12, 2021), ql.USDLibor(ql.Period('3M'))),  # EDZ1 \n",
    "    ql.FuturesRateHelper(ql.QuoteHandle(ql.SimpleQuote(100 - fwd_data[4])), ql.Date(16, 3, 2022), ql.USDLibor(ql.Period('3M'))),  # EDH2 \n",
    "    ql.FuturesRateHelper(ql.QuoteHandle(ql.SimpleQuote(100 - fwd_data[5])), ql.Date(15, 6, 2022), ql.USDLibor(ql.Period('3M'))),  # EDM2 \n",
    "    ql.FuturesRateHelper(ql.QuoteHandle(ql.SimpleQuote(100 - fwd_data[6])), ql.Date(21, 9, 2022), ql.USDLibor(ql.Period('3M'))),  # EDU2 \n",
    "    ql.SwapRateHelper(ql.QuoteHandle(ql.SimpleQuote(fwd_data[7])), ql.Period('1Y'), ql.TARGET(), ql.Semiannual, ql.ModifiedFollowing, ql.Actual360(), ql.USDLibor(ql.Period('3M'))),\n",
    "    ql.SwapRateHelper(ql.QuoteHandle(ql.SimpleQuote(fwd_data[8])), ql.Period('2Y'), ql.TARGET(), ql.Semiannual, ql.ModifiedFollowing, ql.Actual360(), ql.USDLibor(ql.Period('3M'))),\n",
    "    ql.SwapRateHelper(ql.QuoteHandle(ql.SimpleQuote(fwd_data[9])), ql.Period('3Y'), ql.TARGET(), ql.Semiannual, ql.ModifiedFollowing, ql.Actual360(), ql.USDLibor(ql.Period('3M'))),\n",
    "    ql.SwapRateHelper(ql.QuoteHandle(ql.SimpleQuote(fwd_data[10])), ql.Period('4Y'), ql.TARGET(), ql.Semiannual, ql.ModifiedFollowing, ql.Actual360(), ql.USDLibor(ql.Period('3M'))),\n",
    "    ql.SwapRateHelper(ql.QuoteHandle(ql.SimpleQuote(fwd_data[11])), ql.Period('5Y'), ql.TARGET(), ql.Semiannual, ql.ModifiedFollowing, ql.Actual360(), ql.USDLibor(ql.Period('3M'))),\n",
    "    ql.SwapRateHelper(ql.QuoteHandle(ql.SimpleQuote(fwd_data[12])), ql.Period('6Y'), ql.TARGET(), ql.Semiannual, ql.ModifiedFollowing, ql.Actual360(), ql.USDLibor(ql.Period('3M'))),\n",
    "    ql.SwapRateHelper(ql.QuoteHandle(ql.SimpleQuote(fwd_data[13])), ql.Period('7Y'), ql.TARGET(), ql.Semiannual, ql.ModifiedFollowing, ql.Actual360(), ql.USDLibor(ql.Period('3M'))),\n",
    "    ql.SwapRateHelper(ql.QuoteHandle(ql.SimpleQuote(fwd_data[14])), ql.Period('8Y'), ql.TARGET(), ql.Semiannual, ql.ModifiedFollowing, ql.Actual360(), ql.USDLibor(ql.Period('3M'))),\n",
    "    ql.SwapRateHelper(ql.QuoteHandle(ql.SimpleQuote(fwd_data[15])), ql.Period('9Y'), ql.TARGET(), ql.Semiannual, ql.ModifiedFollowing, ql.Actual360(), ql.USDLibor(ql.Period('3M'))),\n",
    "    ql.SwapRateHelper(ql.QuoteHandle(ql.SimpleQuote(fwd_data[16])), ql.Period('10Y'), ql.TARGET(), ql.Semiannual, ql.ModifiedFollowing, ql.Actual360(), ql.USDLibor(ql.Period('3M'))),\n",
    "]\n",
    "\n",
    "fwd_curve = ql.YieldTermStructureHandle(ql.PiecewiseLinearForward(settlement_date, helpers, ql.Actual360()))"
   ]
  },
  {
   "cell_type": "markdown",
   "metadata": {},
   "source": [
    "Построение кривой дисконтирования"
   ]
  },
  {
   "cell_type": "code",
   "execution_count": 4,
   "metadata": {},
   "outputs": [],
   "source": [
    "discount_data = [0.1784,\n",
    " 0.1708,\n",
    " 0.1739,\n",
    " 0.176,\n",
    " 0.1788,\n",
    " 0.1548,\n",
    " 0.129,\n",
    " 0.127,\n",
    " 0.122,\n",
    " 0.1245,\n",
    " 0.1134,\n",
    " 0.1185,\n",
    " 0.1245,\n",
    " 0.1227,\n",
    " 0.114]\n",
    "\n",
    "helpers = [\n",
    "    ql.DepositRateHelper(ql.QuoteHandle(ql.SimpleQuote(discount_data[0])), ql.Mosprime(ql.Period('3M'))),\n",
    "    ql.SwapRateHelper(ql.QuoteHandle(ql.SimpleQuote(discount_data[1])), ql.Period('1W'), ql.TARGET(), ql.Annual, ql.ModifiedFollowing, ql.ActualActual(), ql.Mosprime(ql.Period('3M'))),\n",
    "    ql.SwapRateHelper(ql.QuoteHandle(ql.SimpleQuote(discount_data[2])), ql.Period('2W'), ql.TARGET(), ql.Annual, ql.ModifiedFollowing, ql.ActualActual(), ql.Mosprime(ql.Period('3M'))),\n",
    "    ql.SwapRateHelper(ql.QuoteHandle(ql.SimpleQuote(discount_data[3])), ql.Period('1M'), ql.TARGET(), ql.Annual, ql.ModifiedFollowing, ql.ActualActual(), ql.Mosprime(ql.Period('3M'))),\n",
    "    ql.SwapRateHelper(ql.QuoteHandle(ql.SimpleQuote(discount_data[4])), ql.Period('2M'), ql.TARGET(), ql.Annual, ql.ModifiedFollowing, ql.ActualActual(), ql.Mosprime(ql.Period('3M'))),\n",
    "    ql.SwapRateHelper(ql.QuoteHandle(ql.SimpleQuote(discount_data[5])), ql.Period('1Y'), ql.TARGET(), ql.Annual, ql.ModifiedFollowing, ql.ActualActual(), ql.Mosprime(ql.Period('3M'))),\n",
    "    ql.SwapRateHelper(ql.QuoteHandle(ql.SimpleQuote(discount_data[6])), ql.Period('2Y'), ql.TARGET(), ql.Annual, ql.ModifiedFollowing, ql.ActualActual(), ql.Mosprime(ql.Period('3M'))),\n",
    "    ql.SwapRateHelper(ql.QuoteHandle(ql.SimpleQuote(discount_data[7])), ql.Period('3Y'), ql.TARGET(), ql.Annual, ql.ModifiedFollowing, ql.ActualActual(), ql.Mosprime(ql.Period('3M'))),\n",
    "    ql.SwapRateHelper(ql.QuoteHandle(ql.SimpleQuote(discount_data[8])), ql.Period('4Y'), ql.TARGET(), ql.Annual, ql.ModifiedFollowing, ql.ActualActual(), ql.Mosprime(ql.Period('3M'))),\n",
    "    ql.SwapRateHelper(ql.QuoteHandle(ql.SimpleQuote(discount_data[9])), ql.Period('5Y'), ql.TARGET(), ql.Annual, ql.ModifiedFollowing, ql.ActualActual(), ql.Mosprime(ql.Period('3M'))),\n",
    "    ql.SwapRateHelper(ql.QuoteHandle(ql.SimpleQuote(discount_data[10])), ql.Period('6Y'), ql.TARGET(), ql.Annual, ql.ModifiedFollowing, ql.ActualActual(), ql.Mosprime(ql.Period('3M'))),\n",
    "    ql.SwapRateHelper(ql.QuoteHandle(ql.SimpleQuote(discount_data[11])), ql.Period('7Y'), ql.TARGET(), ql.Annual, ql.ModifiedFollowing, ql.ActualActual(), ql.Mosprime(ql.Period('3M'))),\n",
    "    ql.SwapRateHelper(ql.QuoteHandle(ql.SimpleQuote(discount_data[12])), ql.Period('8Y'), ql.TARGET(), ql.Annual, ql.ModifiedFollowing, ql.ActualActual(), ql.Mosprime(ql.Period('3M'))),\n",
    "    ql.SwapRateHelper(ql.QuoteHandle(ql.SimpleQuote(discount_data[13])), ql.Period('9Y'), ql.TARGET(), ql.Annual, ql.ModifiedFollowing, ql.ActualActual(), ql.Mosprime(ql.Period('3M'))),\n",
    "    ql.SwapRateHelper(ql.QuoteHandle(ql.SimpleQuote(discount_data[14])), ql.Period('10Y'), ql.TARGET(), ql.Annual, ql.ModifiedFollowing, ql.ActualActual(), ql.Mosprime(ql.Period('3M'))),\n",
    "]\n",
    "\n",
    "discount_curve = ql.YieldTermStructureHandle(ql.PiecewiseLogLinearDiscount(settlement_date, helpers, ql.ActualActual()))"
   ]
  },
  {
   "cell_type": "markdown",
   "metadata": {},
   "source": [
    "Создание калькулятора"
   ]
  },
  {
   "cell_type": "code",
   "execution_count": 6,
   "metadata": {},
   "outputs": [
    {
     "ename": "RuntimeError",
     "evalue": "2nd leg: 1st iteration: failed at 1st alive instrument, pillar December 15th, 2021, maturity December 15th, 2021, reference date September 21st, 2021: negative time (-0.0166667) given",
     "output_type": "error",
     "traceback": [
      "\u001b[1;31m---------------------------------------------------------------------------\u001b[0m",
      "\u001b[1;31mRuntimeError\u001b[0m                              Traceback (most recent call last)",
      "\u001b[1;32mc:\\Users\\lolid\\Documents\\_Работа\\АкБарс Банк\\Аналитика\\solution1.ipynb Cell 10'\u001b[0m in \u001b[0;36m<cell line: 16>\u001b[1;34m()\u001b[0m\n\u001b[0;32m     <a href='vscode-notebook-cell:/c%3A/Users/lolid/Documents/_%D0%A0%D0%B0%D0%B1%D0%BE%D1%82%D0%B0/%D0%90%D0%BA%D0%91%D0%B0%D1%80%D1%81%20%D0%91%D0%B0%D0%BD%D0%BA/%D0%90%D0%BD%D0%B0%D0%BB%D0%B8%D1%82%D0%B8%D0%BA%D0%B0/solution1.ipynb#ch0000009?line=13'>14</a>\u001b[0m swap_engine \u001b[39m=\u001b[39m ql\u001b[39m.\u001b[39mDiscountingSwapEngine(discount_curve)\n\u001b[0;32m     <a href='vscode-notebook-cell:/c%3A/Users/lolid/Documents/_%D0%A0%D0%B0%D0%B1%D0%BE%D1%82%D0%B0/%D0%90%D0%BA%D0%91%D0%B0%D1%80%D1%81%20%D0%91%D0%B0%D0%BD%D0%BA/%D0%90%D0%BD%D0%B0%D0%BB%D0%B8%D1%82%D0%B8%D0%BA%D0%B0/solution1.ipynb#ch0000009?line=14'>15</a>\u001b[0m ir_swap\u001b[39m.\u001b[39msetPricingEngine(swap_engine)\n\u001b[1;32m---> <a href='vscode-notebook-cell:/c%3A/Users/lolid/Documents/_%D0%A0%D0%B0%D0%B1%D0%BE%D1%82%D0%B0/%D0%90%D0%BA%D0%91%D0%B0%D1%80%D1%81%20%D0%91%D0%B0%D0%BD%D0%BA/%D0%90%D0%BD%D0%B0%D0%BB%D0%B8%D1%82%D0%B8%D0%BA%D0%B0/solution1.ipynb#ch0000009?line=15'>16</a>\u001b[0m \u001b[39mprint\u001b[39m(\u001b[39m'\u001b[39m\u001b[39mTotal NPV: \u001b[39m\u001b[39m{}\u001b[39;00m\u001b[39m'\u001b[39m\u001b[39m.\u001b[39mformat(\u001b[39m-\u001b[39m\u001b[39m1\u001b[39m\u001b[39m*\u001b[39mir_swap\u001b[39m.\u001b[39;49mNPV()))\n\u001b[0;32m     <a href='vscode-notebook-cell:/c%3A/Users/lolid/Documents/_%D0%A0%D0%B0%D0%B1%D0%BE%D1%82%D0%B0/%D0%90%D0%BA%D0%91%D0%B0%D1%80%D1%81%20%D0%91%D0%B0%D0%BD%D0%BA/%D0%90%D0%BD%D0%B0%D0%BB%D0%B8%D1%82%D0%B8%D0%BA%D0%B0/solution1.ipynb#ch0000009?line=17'>18</a>\u001b[0m fair_rate \u001b[39m=\u001b[39m ir_swap\u001b[39m.\u001b[39mfairRate()\n\u001b[0;32m     <a href='vscode-notebook-cell:/c%3A/Users/lolid/Documents/_%D0%A0%D0%B0%D0%B1%D0%BE%D1%82%D0%B0/%D0%90%D0%BA%D0%91%D0%B0%D1%80%D1%81%20%D0%91%D0%B0%D0%BD%D0%BA/%D0%90%D0%BD%D0%B0%D0%BB%D0%B8%D1%82%D0%B8%D0%BA%D0%B0/solution1.ipynb#ch0000009?line=18'>19</a>\u001b[0m \u001b[39mprint\u001b[39m(\u001b[39mf\u001b[39m\u001b[39m\"\u001b[39m\u001b[39mFair swap rate: \u001b[39m\u001b[39m{\u001b[39;00mfair_rate\u001b[39m:\u001b[39;00m\u001b[39m.6%\u001b[39m\u001b[39m}\u001b[39;00m\u001b[39m\"\u001b[39m)\n",
      "File \u001b[1;32mc:\\Users\\lolid\\AppData\\Local\\Programs\\Python\\Python310\\lib\\site-packages\\QuantLib\\QuantLib.py:9673\u001b[0m, in \u001b[0;36mInstrument.NPV\u001b[1;34m(self)\u001b[0m\n\u001b[0;32m   <a href='file:///c%3A/Users/lolid/AppData/Local/Programs/Python/Python310/lib/site-packages/QuantLib/QuantLib.py?line=9671'>9672</a>\u001b[0m \u001b[39mdef\u001b[39;00m \u001b[39mNPV\u001b[39m(\u001b[39mself\u001b[39m):\n\u001b[1;32m-> <a href='file:///c%3A/Users/lolid/AppData/Local/Programs/Python/Python310/lib/site-packages/QuantLib/QuantLib.py?line=9672'>9673</a>\u001b[0m     \u001b[39mreturn\u001b[39;00m _QuantLib\u001b[39m.\u001b[39;49mInstrument_NPV(\u001b[39mself\u001b[39;49m)\n",
      "\u001b[1;31mRuntimeError\u001b[0m: 2nd leg: 1st iteration: failed at 1st alive instrument, pillar December 15th, 2021, maturity December 15th, 2021, reference date September 21st, 2021: negative time (-0.0166667) given"
     ]
    }
   ],
   "source": [
    "calendar = ql.TARGET()\n",
    "fixed_schedule = ql.Schedule(settlement_date, maturity_date, ql.Period(12, ql.Months), calendar, ql.ModifiedFollowing, ql.ModifiedFollowing, ql.DateGeneration.Backward, False)\n",
    "float_schedule = ql.Schedule(settlement_date, maturity_date, ql.Period(3, ql.Months), calendar, ql.ModifiedFollowing, ql.ModifiedFollowing, ql.DateGeneration.Backward, False)\n",
    "libor3M_index = ql.USDLibor(ql.Period('3M'), fwd_curve)\n",
    "\n",
    "notional = 3628000000\n",
    "fixed_rate = 0.0692\n",
    "fixed_leg_daycount = ql.ActualActual()\n",
    "float_spread = 0\n",
    "float_leg_daycount = ql.Actual360()\n",
    "\n",
    "ir_swap = ql.VanillaSwap(ql.VanillaSwap.Payer, notional, fixed_schedule, fixed_rate, fixed_leg_daycount, float_schedule, libor3M_index, float_spread, float_leg_daycount)\n",
    "\n",
    "swap_engine = ql.DiscountingSwapEngine(discount_curve)\n",
    "ir_swap.setPricingEngine(swap_engine)\n",
    "print('Total NPV: {}'.format(-1*ir_swap.NPV()))\n",
    "\n",
    "fair_rate = ir_swap.fairRate()\n",
    "print(f\"Fair swap rate: {fair_rate:.6%}\")"
   ]
  }
 ],
 "metadata": {
  "interpreter": {
   "hash": "e2069fa8660d98726444b1c3a8c46ff048e6d6948b652fe796c47d12eb80b502"
  },
  "kernelspec": {
   "display_name": "Python 3.10.2 64-bit",
   "language": "python",
   "name": "python3"
  },
  "language_info": {
   "codemirror_mode": {
    "name": "ipython",
    "version": 3
   },
   "file_extension": ".py",
   "mimetype": "text/x-python",
   "name": "python",
   "nbconvert_exporter": "python",
   "pygments_lexer": "ipython3",
   "version": "3.10.2"
  },
  "orig_nbformat": 4
 },
 "nbformat": 4,
 "nbformat_minor": 2
}
